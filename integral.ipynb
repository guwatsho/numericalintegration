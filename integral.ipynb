{
 "cells": [
  {
   "cell_type": "code",
   "execution_count": 15,
   "metadata": {},
   "outputs": [
    {
     "data": {
      "text/plain": [
       "adjust_xw (generic function with 1 method)"
      ]
     },
     "execution_count": 15,
     "metadata": {},
     "output_type": "execute_result"
    }
   ],
   "source": [
    "using FastGaussQuadrature\n",
    "using LinearAlgebra\n",
    "\n",
    "N = 100 # 10点ガウス求積を使用(=> 零点が10個！)\n",
    "a = 0.0 # 積分の下限\n",
    "b = 1.0 # 積分の上限\n",
    "\n",
    "# 積分点と重みを計算\n",
    "x, w = gausslegendre(N)\n",
    "\n",
    "# 積分区間の調整\n",
    "function adjust_xw(x, w, a, b)\n",
    "    @assert b > a\n",
    "    x_adjusted = (b - a) * 0.5 * (x .+ 1) .+ a\n",
    "    w_adjusted = (0.5 * (b - a)) .* w\n",
    "    return x_adjusted, w_adjusted\n",
    "end"
   ]
  },
  {
   "attachments": {},
   "cell_type": "markdown",
   "metadata": {},
   "source": [
    "変更した積分区間などの確認:\n",
    "f = 1\n",
    "を積分すると、積分値が積分区間の幅になる"
   ]
  },
  {
   "cell_type": "code",
   "execution_count": 16,
   "metadata": {},
   "outputs": [
    {
     "name": "stdout",
     "output_type": "stream",
     "text": [
      "MethodInstance for adjust_xw(::Vector{Float64}, ::Vector{Float64}, ::Float64, ::Float64)\n",
      "  from adjust_xw(x, w, a, b) in Main at In[15]:12\n",
      "Arguments\n",
      "  #self#\u001b[36m::Core.Const(adjust_xw)\u001b[39m\n",
      "  x\u001b[36m::Vector{Float64}\u001b[39m\n",
      "  w\u001b[36m::Vector{Float64}\u001b[39m\n",
      "  a\u001b[36m::Float64\u001b[39m\n",
      "  b\u001b[36m::Float64\u001b[39m\n",
      "Locals\n",
      "  w_adjusted\u001b[36m::Vector{Float64}\u001b[39m\n",
      "  x_adjusted\u001b[36m::Vector{Float64}\u001b[39m\n",
      "Body\u001b[36m::Tuple{Vector{Float64}, Vector{Float64}}\u001b[39m\n",
      "\u001b[90m1 ─\u001b[39m       Core.NewvarNode(:(w_adjusted))\n",
      "\u001b[90m│  \u001b[39m       Core.NewvarNode(:(x_adjusted))\n",
      "\u001b[90m│  \u001b[39m %3  = (b > a)\u001b[36m::Bool\u001b[39m\n",
      "\u001b[90m└──\u001b[39m       goto #3 if not %3\n",
      "\u001b[90m2 ─\u001b[39m       goto #4\n",
      "\u001b[90m3 ─\u001b[39m %6  = Base.AssertionError(\"b > a\")\u001b[36m::Core.PartialStruct(AssertionError, Any[String])\u001b[39m\n",
      "\u001b[90m└──\u001b[39m       Base.throw(%6)\n",
      "\u001b[90m4 ┄\u001b[39m %8  = (b - a)\u001b[36m::Float64\u001b[39m\n",
      "\u001b[90m│  \u001b[39m %9  = Base.broadcasted(Main.:+, x, 1)\u001b[36m::Core.PartialStruct(Base.Broadcast.Broadcasted{Base.Broadcast.DefaultArrayStyle{1}, Nothing, typeof(+), Tuple{Vector{Float64}, Int64}}, Any[Core.Const(+), Core.PartialStruct(Tuple{Vector{Float64}, Int64}, Any[Vector{Float64}, Core.Const(1)]), Core.Const(nothing)])\u001b[39m\n",
      "\u001b[90m│  \u001b[39m %10 = Base.materialize(%9)\u001b[36m::Vector{Float64}\u001b[39m\n",
      "\u001b[90m│  \u001b[39m %11 = (%8 * 0.5 * %10)\u001b[36m::Vector{Float64}\u001b[39m\n",
      "\u001b[90m│  \u001b[39m %12 = Base.broadcasted(Main.:+, %11, a)\u001b[36m::Base.Broadcast.Broadcasted{Base.Broadcast.DefaultArrayStyle{1}, Nothing, typeof(+), Tuple{Vector{Float64}, Float64}}\u001b[39m\n",
      "\u001b[90m│  \u001b[39m       (x_adjusted = Base.materialize(%12))\n",
      "\u001b[90m│  \u001b[39m %14 = (b - a)\u001b[36m::Float64\u001b[39m\n",
      "\u001b[90m│  \u001b[39m %15 = (0.5 * %14)\u001b[36m::Float64\u001b[39m\n",
      "\u001b[90m│  \u001b[39m %16 = Base.broadcasted(Main.:*, %15, w)\u001b[36m::Base.Broadcast.Broadcasted{Base.Broadcast.DefaultArrayStyle{1}, Nothing, typeof(*), Tuple{Float64, Vector{Float64}}}\u001b[39m\n",
      "\u001b[90m│  \u001b[39m       (w_adjusted = Base.materialize(%16))\n",
      "\u001b[90m│  \u001b[39m %18 = Core.tuple(x_adjusted, w_adjusted)\u001b[36m::Tuple{Vector{Float64}, Vector{Float64}}\u001b[39m\n",
      "\u001b[90m└──\u001b[39m       return %18\n",
      "\n"
     ]
    }
   ],
   "source": [
    "# 全てのデータが引数で渡されているか、チェックしておく\n",
    "@code_warntype adjust_xw(x, w, a, b)"
   ]
  },
  {
   "cell_type": "code",
   "execution_count": 17,
   "metadata": {},
   "outputs": [],
   "source": [
    "# 簡単なテストを実行\n",
    "\n",
    "let # x_, w_が名前空間を汚さないようにスコープを作る\n",
    "    # Test case: [-1, 1]\n",
    "    x_, w_ = adjust_xw(x, w, -1.0, 1.0) \n",
    "    @assert x_ ≈ x\n",
    "    @assert w_ ≈ w\n",
    "    @assert sum(w_) ≈ 2.0\n",
    " \n",
    "    # Test case: [0, 1]\n",
    "    x_, w_ = adjust_xw(x, w, 0.0, 1.0) \n",
    "    @assert x_ ≈ 0.5 .* x .+ 0.5\n",
    "    @assert sum(w_) ≈ 1.0\n",
    " end"
   ]
  },
  {
   "cell_type": "code",
   "execution_count": 18,
   "metadata": {},
   "outputs": [
    {
     "name": "stdout",
     "output_type": "stream",
     "text": [
      "Approximated integral: 1.718281828459045\n"
     ]
    }
   ],
   "source": [
    "# 被積分関数の定義\n",
    "f(x) = exp(x)\n",
    "\n",
    "# 数値積分の計算 (.はbroadcast, dotはベクトル同士の内積)\n",
    "x_adjusted, w_adjusted = adjust_xw(x, w, a, b)\n",
    "integral = dot(f.(x_adjusted), w_adjusted)      #'f.': fについて全成分を書き出す？\n",
    "\n",
    "println(\"Approximated integral: \", integral)"
   ]
  },
  {
   "attachments": {},
   "cell_type": "markdown",
   "metadata": {},
   "source": [
    "N = 5       1.7182818284583914  \n",
    "N = 10      1.7182818284590455  \n",
    "N = 20      1.7182818284590444  \n",
    "N = 100     1.718281828459045  "
   ]
  },
  {
   "cell_type": "code",
   "execution_count": null,
   "metadata": {},
   "outputs": [],
   "source": [
    "\n",
    "err = []\n",
    "N = []\n",
    "exactsl = 2.0 \n",
    "\n",
    "# 被積分関数の定義\n",
    "f(x) = exp(x)\n",
    "for i in Nmax\n",
    "    # 数値積分の計算 (.はbroadcast, dotはベクトル同士の内積)\n",
    "    x_adjusted, w_adjusted = adjust_xw(x, w, a, b)\n",
    "    integral = dot(f.(x_adjusted), w_adjusted)      #'f.': fについて全成分を書き出す？\n",
    "\n",
    "    N += [i]\n",
    "    err += [abs(integral - exactsl)]\n",
    "end\n",
    "\n",
    "plot(N, err)"
   ]
  },
  {
   "cell_type": "code",
   "execution_count": 21,
   "metadata": {},
   "outputs": [
    {
     "ename": "LoadError",
     "evalue": "syntax: invalid iteration specification",
     "output_type": "error",
     "traceback": [
      "syntax: invalid iteration specification",
      "",
      "Stacktrace:",
      " [1] top-level scope",
      "   @ In[21]:2"
     ]
    }
   ],
   "source": [
    "for i=1,10\n",
    "    println(i)\n",
    "end"
   ]
  },
  {
   "cell_type": "code",
   "execution_count": null,
   "metadata": {},
   "outputs": [],
   "source": [
    "mutable struct WrapFunc\n",
    "    f\n",
    "    sampling_points::Vector{Tuple{Float64,Float64}}\n",
    "end\n",
    "function (w::WrapFunc)(kx, ky)\n",
    "    push!(w.sampling_points, (kx, ky))\n",
    "    return w.f(kx, ky)\n",
    "end\n",
    "gk_ = WrapFunc(gk, [])\n",
    "@show length(gk_.sampling_points)\n",
    "gk_(0.0, 0.0)\n",
    "@show length(gk_.sampling_points)\n",
    "gk_(0.0, 0.0)\n",
    "@show length(gk_.sampling_points)"
   ]
  }
 ],
 "metadata": {
  "kernelspec": {
   "display_name": "Julia 1.8.5",
   "language": "julia",
   "name": "julia-1.8"
  },
  "language_info": {
   "file_extension": ".jl",
   "mimetype": "application/julia",
   "name": "julia",
   "version": "1.8.5"
  },
  "orig_nbformat": 4
 },
 "nbformat": 4,
 "nbformat_minor": 2
}
